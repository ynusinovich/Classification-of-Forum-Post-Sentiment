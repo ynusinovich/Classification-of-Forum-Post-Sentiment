{
 "cells": [
  {
   "cell_type": "markdown",
   "metadata": {},
   "source": [
    "# Project 3: Web APIs & NLP\n",
    "# Notebook 3: Create Variables\n",
    "\n",
    "https://github.com/pushshift/api<br>\n",
    "https://api.pushshift.io/reddit/search/comment/"
   ]
  },
  {
   "cell_type": "markdown",
   "metadata": {},
   "source": [
    "## Contents\n",
    "- [Import Libraries and Data](#Import-Libraries-and-Data)\n",
    "- [Create and Save Variables](#Create-and-Save-Variables)"
   ]
  },
  {
   "cell_type": "markdown",
   "metadata": {},
   "source": [
    "## Import Libraries and Data"
   ]
  },
  {
   "cell_type": "code",
   "execution_count": 1,
   "metadata": {},
   "outputs": [],
   "source": [
    "import pandas as pd\n",
    "import numpy as np\n",
    "\n",
    "from sklearn.model_selection import train_test_split\n",
    "\n",
    "pd.set_option('display.max_columns', 40)\n",
    "pd.set_option('display.max_rows', 100)"
   ]
  },
  {
   "cell_type": "code",
   "execution_count": 2,
   "metadata": {},
   "outputs": [],
   "source": [
    "df_p = pd.read_csv(\"../datasets/politics_subreddit_latest_6500_cleaned.csv\")\n",
    "df_c = pd.read_csv(\"../datasets/conservative_subreddit_latest_6500_cleaned.csv\")"
   ]
  },
  {
   "cell_type": "markdown",
   "metadata": {},
   "source": [
    "## Create and Save Variables"
   ]
  },
  {
   "cell_type": "markdown",
   "metadata": {},
   "source": [
    "### Add 1 for Liberal Slant (Comments from r/politics) and 0 for Conservative Slant (Comments from r/conservative) and Combine Datafames to Make a Single Training/Validation Dataframe"
   ]
  },
  {
   "cell_type": "code",
   "execution_count": 3,
   "metadata": {},
   "outputs": [],
   "source": [
    "df_p[\"slant\"] = 1\n",
    "df_c[\"slant\"] = 0"
   ]
  },
  {
   "cell_type": "code",
   "execution_count": 4,
   "metadata": {},
   "outputs": [],
   "source": [
    "df_t = df_p.append(df_c, ignore_index = True)"
   ]
  },
  {
   "cell_type": "code",
   "execution_count": 5,
   "metadata": {},
   "outputs": [
    {
     "data": {
      "text/html": [
       "<div>\n",
       "<style scoped>\n",
       "    .dataframe tbody tr th:only-of-type {\n",
       "        vertical-align: middle;\n",
       "    }\n",
       "\n",
       "    .dataframe tbody tr th {\n",
       "        vertical-align: top;\n",
       "    }\n",
       "\n",
       "    .dataframe thead th {\n",
       "        text-align: right;\n",
       "    }\n",
       "</style>\n",
       "<table border=\"1\" class=\"dataframe\">\n",
       "  <thead>\n",
       "    <tr style=\"text-align: right;\">\n",
       "      <th></th>\n",
       "      <th>subreddit</th>\n",
       "      <th>subreddit_id</th>\n",
       "      <th>author</th>\n",
       "      <th>author_fullname</th>\n",
       "      <th>body</th>\n",
       "      <th>slant</th>\n",
       "    </tr>\n",
       "  </thead>\n",
       "  <tbody>\n",
       "    <tr>\n",
       "      <th>0</th>\n",
       "      <td>politics</td>\n",
       "      <td>t5_2cneq</td>\n",
       "      <td>wayfarout</td>\n",
       "      <td>t2_hwcbf</td>\n",
       "      <td>It was actually talked about in The West Wing ...</td>\n",
       "      <td>1</td>\n",
       "    </tr>\n",
       "    <tr>\n",
       "      <th>1</th>\n",
       "      <td>politics</td>\n",
       "      <td>t5_2cneq</td>\n",
       "      <td>trowawee1122</td>\n",
       "      <td>t2_ay8vmvm</td>\n",
       "      <td>There's no way he'll be elected... 2015</td>\n",
       "      <td>1</td>\n",
       "    </tr>\n",
       "    <tr>\n",
       "      <th>2</th>\n",
       "      <td>politics</td>\n",
       "      <td>t5_2cneq</td>\n",
       "      <td>klowny</td>\n",
       "      <td>t2_4ffwz</td>\n",
       "      <td>I think Hillary started around this point as w...</td>\n",
       "      <td>1</td>\n",
       "    </tr>\n",
       "    <tr>\n",
       "      <th>3</th>\n",
       "      <td>politics</td>\n",
       "      <td>t5_2cneq</td>\n",
       "      <td>6p6ss6</td>\n",
       "      <td>t2_rr1ku</td>\n",
       "      <td>Oops my Excel just crashed and auto recover wo...</td>\n",
       "      <td>1</td>\n",
       "    </tr>\n",
       "    <tr>\n",
       "      <th>4</th>\n",
       "      <td>politics</td>\n",
       "      <td>t5_2cneq</td>\n",
       "      <td>seKer82</td>\n",
       "      <td>t2_4axcp</td>\n",
       "      <td>Eh not like they mean much to them anymore. Th...</td>\n",
       "      <td>1</td>\n",
       "    </tr>\n",
       "    <tr>\n",
       "      <th>...</th>\n",
       "      <td>...</td>\n",
       "      <td>...</td>\n",
       "      <td>...</td>\n",
       "      <td>...</td>\n",
       "      <td>...</td>\n",
       "      <td>...</td>\n",
       "    </tr>\n",
       "    <tr>\n",
       "      <th>11910</th>\n",
       "      <td>Conservative</td>\n",
       "      <td>t5_2qh6p</td>\n",
       "      <td>FEDERALRESERVECOIN</td>\n",
       "      <td>t2_ocexd</td>\n",
       "      <td>Ahh yes President Benjamin Franklin</td>\n",
       "      <td>0</td>\n",
       "    </tr>\n",
       "    <tr>\n",
       "      <th>11911</th>\n",
       "      <td>Conservative</td>\n",
       "      <td>t5_2qh6p</td>\n",
       "      <td>SouljaboyAirpods</td>\n",
       "      <td>t2_45gj5253</td>\n",
       "      <td>I mean does it fucken matter What is this game...</td>\n",
       "      <td>0</td>\n",
       "    </tr>\n",
       "    <tr>\n",
       "      <th>11912</th>\n",
       "      <td>Conservative</td>\n",
       "      <td>t5_2qh6p</td>\n",
       "      <td>Ohnoyoudont1</td>\n",
       "      <td>t2_cxxa3vd</td>\n",
       "      <td>One of the biggest turnoffs for me about democ...</td>\n",
       "      <td>0</td>\n",
       "    </tr>\n",
       "    <tr>\n",
       "      <th>11913</th>\n",
       "      <td>Conservative</td>\n",
       "      <td>t5_2qh6p</td>\n",
       "      <td>Jasonberg</td>\n",
       "      <td>t2_45xke</td>\n",
       "      <td>B.A W.</td>\n",
       "      <td>0</td>\n",
       "    </tr>\n",
       "    <tr>\n",
       "      <th>11914</th>\n",
       "      <td>Conservative</td>\n",
       "      <td>t5_2qh6p</td>\n",
       "      <td>obliviononahalfshell</td>\n",
       "      <td>t2_jdw0t</td>\n",
       "      <td>Yes</td>\n",
       "      <td>0</td>\n",
       "    </tr>\n",
       "  </tbody>\n",
       "</table>\n",
       "<p>11915 rows × 6 columns</p>\n",
       "</div>"
      ],
      "text/plain": [
       "          subreddit subreddit_id                author author_fullname  \\\n",
       "0          politics     t5_2cneq             wayfarout        t2_hwcbf   \n",
       "1          politics     t5_2cneq          trowawee1122      t2_ay8vmvm   \n",
       "2          politics     t5_2cneq                klowny        t2_4ffwz   \n",
       "3          politics     t5_2cneq                6p6ss6        t2_rr1ku   \n",
       "4          politics     t5_2cneq               seKer82        t2_4axcp   \n",
       "...             ...          ...                   ...             ...   \n",
       "11910  Conservative     t5_2qh6p    FEDERALRESERVECOIN        t2_ocexd   \n",
       "11911  Conservative     t5_2qh6p      SouljaboyAirpods     t2_45gj5253   \n",
       "11912  Conservative     t5_2qh6p          Ohnoyoudont1      t2_cxxa3vd   \n",
       "11913  Conservative     t5_2qh6p             Jasonberg        t2_45xke   \n",
       "11914  Conservative     t5_2qh6p  obliviononahalfshell        t2_jdw0t   \n",
       "\n",
       "                                                    body  slant  \n",
       "0      It was actually talked about in The West Wing ...      1  \n",
       "1                There's no way he'll be elected... 2015      1  \n",
       "2      I think Hillary started around this point as w...      1  \n",
       "3      Oops my Excel just crashed and auto recover wo...      1  \n",
       "4      Eh not like they mean much to them anymore. Th...      1  \n",
       "...                                                  ...    ...  \n",
       "11910                Ahh yes President Benjamin Franklin      0  \n",
       "11911  I mean does it fucken matter What is this game...      0  \n",
       "11912  One of the biggest turnoffs for me about democ...      0  \n",
       "11913                                             B.A W.      0  \n",
       "11914                                                Yes      0  \n",
       "\n",
       "[11915 rows x 6 columns]"
      ]
     },
     "execution_count": 5,
     "metadata": {},
     "output_type": "execute_result"
    }
   ],
   "source": [
    "df_t"
   ]
  },
  {
   "cell_type": "code",
   "execution_count": 6,
   "metadata": {},
   "outputs": [
    {
     "data": {
      "text/html": [
       "<div>\n",
       "<style scoped>\n",
       "    .dataframe tbody tr th:only-of-type {\n",
       "        vertical-align: middle;\n",
       "    }\n",
       "\n",
       "    .dataframe tbody tr th {\n",
       "        vertical-align: top;\n",
       "    }\n",
       "\n",
       "    .dataframe thead th {\n",
       "        text-align: right;\n",
       "    }\n",
       "</style>\n",
       "<table border=\"1\" class=\"dataframe\">\n",
       "  <thead>\n",
       "    <tr style=\"text-align: right;\">\n",
       "      <th></th>\n",
       "      <th>subreddit</th>\n",
       "      <th>subreddit_id</th>\n",
       "      <th>author</th>\n",
       "      <th>author_fullname</th>\n",
       "      <th>body</th>\n",
       "      <th>slant</th>\n",
       "    </tr>\n",
       "  </thead>\n",
       "  <tbody>\n",
       "  </tbody>\n",
       "</table>\n",
       "</div>"
      ],
      "text/plain": [
       "Empty DataFrame\n",
       "Columns: [subreddit, subreddit_id, author, author_fullname, body, slant]\n",
       "Index: []"
      ]
     },
     "execution_count": 6,
     "metadata": {},
     "output_type": "execute_result"
    }
   ],
   "source": [
    "df_t[df_t.isna().any(axis=1)]"
   ]
  },
  {
   "cell_type": "markdown",
   "metadata": {},
   "source": [
    "### Define Variables, Establish Baseline, Train-Test-Split, and Save"
   ]
  },
  {
   "cell_type": "code",
   "execution_count": 7,
   "metadata": {},
   "outputs": [],
   "source": [
    "X = df_t[\"body\"]\n",
    "y = df_t[\"slant\"]"
   ]
  },
  {
   "cell_type": "code",
   "execution_count": 8,
   "metadata": {},
   "outputs": [
    {
     "data": {
      "text/plain": [
       "0.5089383130507763"
      ]
     },
     "execution_count": 8,
     "metadata": {},
     "output_type": "execute_result"
    }
   ],
   "source": [
    "# there are slightly more liberal comments than conservative comments\n",
    "# the baseline score is the number of liberal comments divided by the number of total comments\n",
    "sum(y)/len(y)"
   ]
  },
  {
   "cell_type": "code",
   "execution_count": 9,
   "metadata": {},
   "outputs": [],
   "source": [
    "X_train, X_test, y_train, y_test = train_test_split(X,\n",
    "                                                    y,\n",
    "                                                    test_size = 0.33,\n",
    "                                                    stratify = y)"
   ]
  },
  {
   "cell_type": "code",
   "execution_count": 12,
   "metadata": {},
   "outputs": [],
   "source": [
    "X_train.to_csv(\"../datasets/X_train\", index = False)\n",
    "X_test.to_csv(\"../datasets/X_test\", index = False)\n",
    "y_train.to_csv(\"../datasets/y_train\", index = False)\n",
    "y_test.to_csv(\"../datasets/y_test\", index = False)"
   ]
  },
  {
   "cell_type": "markdown",
   "metadata": {},
   "source": [
    "## See Notebook 4 for Modeling"
   ]
  },
  {
   "cell_type": "code",
   "execution_count": null,
   "metadata": {},
   "outputs": [],
   "source": []
  }
 ],
 "metadata": {
  "kernelspec": {
   "display_name": "Python 3",
   "language": "python",
   "name": "python3"
  },
  "language_info": {
   "codemirror_mode": {
    "name": "ipython",
    "version": 3
   },
   "file_extension": ".py",
   "mimetype": "text/x-python",
   "name": "python",
   "nbconvert_exporter": "python",
   "pygments_lexer": "ipython3",
   "version": "3.7.7"
  }
 },
 "nbformat": 4,
 "nbformat_minor": 4
}
