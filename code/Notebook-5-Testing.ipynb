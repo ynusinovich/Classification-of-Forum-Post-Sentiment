{
 "cells": [
  {
   "cell_type": "markdown",
   "metadata": {},
   "source": [
    "# Project 3: Web APIs & NLP\n",
    "# Notebook 5: Testing\n",
    "\n",
    "https://github.com/pushshift/api<br>\n",
    "https://api.pushshift.io/reddit/search/comment/"
   ]
  },
  {
   "cell_type": "markdown",
   "metadata": {},
   "source": [
    "## Contents\n",
    "- [Import Libraries and Data](#Import-Libraries-and-Data)\n",
    "- [Create and Score Labeled Test Dataset](#Create-and-Score-Labeled-Test-Dataset)\n",
    "- [Run the Model on the Libertarian Subreddit](#Run-the-Model-on-the-Libertarian-Subreddit)\n",
    "- [Analyze Libertarian Subreddit Users](#Analyze-Libertarian-Subreddit-Users)\n",
    "- [Examine Most Common Words in Each Subreddit](#Examine-Most-Common-Words-in-Each-Subreddit)\n",
    "- [Summary and Further Research](#Summary-and-Further-Research)"
   ]
  },
  {
   "cell_type": "markdown",
   "metadata": {},
   "source": [
    "## Import Libraries and Data"
   ]
  },
  {
   "cell_type": "code",
   "execution_count": 6,
   "metadata": {},
   "outputs": [],
   "source": [
    "import pandas as pd\n",
    "import numpy as np\n",
    "import matplotlib.pyplot as plt\n",
    "\n",
    "from sklearn.feature_extraction.text import CountVectorizer, TfidfVectorizer\n",
    "from sklearn.preprocessing import FunctionTransformer\n",
    "\n",
    "import pickle\n",
    "\n",
    "from sklearn.metrics import (confusion_matrix, precision_score, recall_score, accuracy_score,\n",
    "                             roc_auc_score, plot_confusion_matrix)\n",
    "\n",
    "pd.set_option('display.max_columns', 40)\n",
    "pd.set_option('display.max_rows', 100)"
   ]
  },
  {
   "cell_type": "code",
   "execution_count": 7,
   "metadata": {},
   "outputs": [],
   "source": [
    "df_p = pd.read_csv(\"../datasets/politics_subreddit_latest_6500_cleaned.csv\", squeeze = True)\n",
    "df_c = pd.read_csv(\"../datasets/conservative_subreddit_latest_6500_cleaned.csv\", squeeze = True)\n",
    "df_l = pd.read_csv(\"../datasets/libertarian_subreddit_latest_6500_cleaned.csv\", squeeze = True)"
   ]
  },
  {
   "cell_type": "code",
   "execution_count": 8,
   "metadata": {},
   "outputs": [],
   "source": [
    "X_train = pd.read_csv(\"../datasets/X_train\", squeeze = True)\n",
    "X_test = pd.read_csv(\"../datasets/X_test\", squeeze = True)\n",
    "y_train = pd.read_csv(\"../datasets/y_train\", squeeze = True)\n",
    "y_test = pd.read_csv(\"../datasets/y_test\", squeeze = True)"
   ]
  },
  {
   "cell_type": "code",
   "execution_count": 37,
   "metadata": {},
   "outputs": [
    {
     "data": {
      "text/plain": [
       "0.5089013224821973"
      ]
     },
     "execution_count": 37,
     "metadata": {},
     "output_type": "execute_result"
    }
   ],
   "source": [
    "sum(y_test)/len(y_test)\n",
    "# percentage of liberals in test data"
   ]
  },
  {
   "cell_type": "code",
   "execution_count": 9,
   "metadata": {},
   "outputs": [
    {
     "name": "stdout",
     "output_type": "stream",
     "text": [
      "0.8080921959163222\n",
      "0.7011698880976602\n"
     ]
    }
   ],
   "source": [
    "vec_fitted = pickle.load(open('../models/vec_fitted.joblib', 'rb'))\n",
    "X_train = vec_fitted.transform(X_train)\n",
    "X_test = vec_fitted.transform(X_test)\n",
    "\n",
    "ft = FunctionTransformer(lambda x: x.todense(), accept_sparse = True)\n",
    "X_train = ft.fit_transform(X_train)\n",
    "X_test = ft.transform(X_test)\n",
    "\n",
    "best_model = pickle.load(open('../models/best_model.joblib', 'rb'))\n",
    "print(best_model.score(X_train, y_train))\n",
    "print(best_model.score(X_test, y_test))"
   ]
  },
  {
   "cell_type": "markdown",
   "metadata": {},
   "source": [
    "## Create and Score Labeled Test Dataset"
   ]
  },
  {
   "cell_type": "code",
   "execution_count": 10,
   "metadata": {},
   "outputs": [],
   "source": [
    "# # use this code for initial run of notebook, to generate test data:\n",
    "# index_list = np.random.choice(df_l.index, size = 50, replace = False) \n",
    "# df_test = pd.DataFrame(df_l.loc[index_list, \"body\"])\n",
    "# df_test.to_csv(\"../datasets/libertarian_subreddit_random_50_slants\", index = False)\n",
    "\n",
    "# use this code if reloading notebook, to load the test data:\n",
    "df_test = pd.read_csv(\"../datasets/libertarian_subreddit_random_50_slants\")"
   ]
  },
  {
   "cell_type": "code",
   "execution_count": 11,
   "metadata": {},
   "outputs": [
    {
     "name": "stdout",
     "output_type": "stream",
     "text": [
      "1 I'm not dumbass I'm saying trump is straight up fucking hot garbage. \n",
      "\n",
      "2 the mods actively destroyed this sub they would sticky their political opinion in threads and prevent replies censor anything mentioning jews or blacks ban memes ban complaints about how shit the sub has become by making a metapost and demanding all critism of mods sub be confined to that one post place is a joke \n",
      "\n",
      "3 Not really as you contradicted yourself. What could be clearer than No \n",
      "\n",
      "4 Okay bootlicker who ironically says he opposes Nazis despite all of his comments carrying deeply fascistic overtones. \n",
      "\n",
      "5 These might help 1491 What do libertarians think of democracy quora.com 1175 Why do libertarians prefer the market to democracy quora.com 1062 Is democracy compatible with libertarianism quora.com \n",
      "\n",
      "6 You re kidding right There s a legitimate reason for people not to be out in public. Look at the number of people that are dying in NY. Yea the media is only talking about the virus shit because that s what people want to watch and listen to therefore they make money. Take off your foil hat and think about it \n",
      "\n",
      "7 That's a burden I don't think I'll be able to satisfy. But I personally don't think that that is a reasonable criteria to use. Could you explain why you think that that's relevant to this discussion \n",
      "\n",
      "8 You want to know why Or is cherry picking the one bad egg logical to you Italy has the second oldest population on the planet their Prime Minister has been screaming at people to follow quarantine rules most were ignoring unlike most countries there isn t so much of a generation gap between people meaning youth through to elders all interact socially. There are reasons why they were effected so badly universal healthcare not being one of them. \n",
      "\n",
      "9 gt what is Biden a foe of Trump going to do Sundown while Trump pressures foreign governments to investigate him for bullshit conspiracy theories probably \n",
      "\n",
      "10 I think you re confusing health care with medical technology innovation. Health care is the service you provide to people that utilizes that innovation. \n",
      "\n",
      "11 Lol yep thought so. Poor. \n",
      "\n",
      "12 Isn't that their decisions about their personal health to make though Their body their choice. It's going to be their problem if they get infected. You don't have to worry about getting infected if you're at home. \n",
      "\n",
      "13 Same link sciencedaily.com \n",
      "\n",
      "14 gt Removing anyone left of altright and silencing all dissent is absolutely anti libertarian. Banning people on a private website doesn't violate libertarian principles whatsoever. But I'll bite your comment seems to imply that not only were leftists banned but people were banned just for not being alt right. So were any libertarians banned for criticizing the GOP or the alt right \n",
      "\n",
      "15 Good point \n",
      "\n",
      "16 How did they arrest him I assume they had to come into close proximity with him and make physical contact and then put him in a holding cell where viruses could easily spread. So not only are they arresting someone for minding their own business but they are doing the exact opposite of what they're trying to achieve. That's the government for you. \n",
      "\n",
      "17 I'm a step ahead on the planting my own food. It's a hobby of mine fortunately. I sure hope more people are under the same mindset as you as far as the waking up but most people are sheep and lack the ability of forward thinking or thinking for themselves. \n",
      "\n",
      "18 I honestly can't say. I don't even smoke pot. I just support everyone's right to do what they want with their own body. \n",
      "\n",
      "19 That guy is just another MAGA hatter \n",
      "\n",
      "20 Oh yeah we haven't peaked yet. China had loads of more dead than they reported and that was with taking away sick people by force and much harsher lockdowns. \n",
      "\n",
      "21 Shut up Statist \n",
      "\n",
      "22 Civil asset forfeiture usually occurs when there is some underlying crime. It says in the article he's not being charged with hoarding And I wonder what they mean by charging 700 of market value market value changes as we have easily seen in the last couple of months. \n",
      "\n",
      "23 And you and I will not see eye to eye. It is the ethical responsibility of a society to take care of others and a moral duty of the individual to uphold those ethics. Your sweeping generalities leave no room for compassion to the most necessary and basic rights of a prosperous nation. You can t win the argument against no taxes at least not in America. So decide how you want your money best spent. \n",
      "\n",
      "24 No I'm not confused you're simply wrong about this. \n",
      "\n",
      "25 gt had to be rescued There's your problem. \n",
      "\n",
      "26 It's as real as any other political philosophy. \n",
      "\n",
      "27 My opinion is that too many people are voting and the voting age should be higher. Im all for individual freedom however i believe that people should not vote before their brain are fully developed. It just makes it easier for the rest of us. \n",
      "\n",
      "28 That does not make it ok to take personal property without due process \n",
      "\n",
      "29 I see so Sweden and Taiwan are crashing economically. Same for South Korea. \n",
      "\n",
      "30 gt I hate that solution Me too. But it is no better than your anaology with the companies. Choosing who is poking me does not remove the poking. If I am poked by an private institution or an public institution matters litte. \n",
      "\n",
      "31 Iirc it wasn't specifically banning private healthcare that was found to violate the Charter but banning private healthcare WHEN public healthcare was not sufficient to meet the needs of the population ie if the public system didn't have such long waiting times even for urgent cases it likely wouldn't have succeeded \n",
      "\n",
      "32 I think it's a good question. I've been reading up on welfare recently but I'm not an expert. Just setting the scene a bit I think there are different flavours of libertarians with different emphasis. On one side you have those who emphasises seeing people as utility seekers and whose focus is on the efficiency of markets and who might care more about poverty Frederick Hayek Milton Friedman This is the group I belong to. On the other side you have those who are a bit more hardcore and whose focus is on private property as natural rights that must not be violated as they see it as immoral these people are more hostile towards welfare Murray Rothbard Ayn Rand I just wanted to understand your position more first why do you want to provide welfare in the first place Are you seeking to lift up the poor because you want to reduce their suffering Or is it out of a sense of equality egalitarianism Since the answer will differ greatly depending on your emphasis.. \n",
      "\n",
      "33 It's almost as if those states have more international travel and higher population density. \n",
      "\n",
      "34 More responsible What's responsible about not working for the airline industry \n",
      "\n",
      "35 This post has been automatically removed. ALL image based content is considered low effort it will not be approved no exceptions. Don't bother asking us you will be muted. r LibertarianMeme is a subreddit that exists exclusively for images. If you wish you can resubmit this as a self text post but direct images are not allowed. I am a bot and this action was performed automatically. Please contact the moderators of this subreddit message compose to r Libertarian if you have any questions or concerns. \n",
      "\n",
      "36 gt Which part of that Tweet is inaccurate That tweet was comparing yearly numbers of all strains of influenza against a pandemic that had barely started. The problem is also that his tweet is very easily taken as an attempt to trivialize COVID 19 compared to the common flu wtf is the common flu anyway gt He started his task force back in December. He didn't and the trumplings keep bitching that he couldn't start it because he was being impeached. Whic is it gt How is he not relying on the experts When he says stupid things and doesn't include the actual experts in his press conferences as he did earlier when he said stupid shit that contradicted what Fauci had already been saying. It wasn't until shit got real that Trump started acting serious about this and letting the experts come front and center. Until he started saying stupid shit like some scarves are better than masks. Don't you think Americans deserve better crisis leadership than this \n",
      "\n",
      "37 And if people congregate on my property and they all get sick some of them die and the rest collectively infect tens of thousands of other over a period of time In your world nothing because you can't prove that anyone got infected at that gathering. Hope the freedom was worth it. \n",
      "\n",
      "38 And getting Winds of Winter Win \n",
      "\n",
      "39 And yet you choose to live under the order every day you don t commit suicide. \n",
      "\n",
      "40 As pointed out Medicare is not provision of medical services by government it is the central payment and regulation of costs associated with Healthcare to stop manipulation of insurance companies and eye gouging by private service providers. \n",
      "\n",
      "41 I bet the GOP nominates a woman. And I can see Pence running which would suck \n",
      "\n",
      "42 You're answering sarcastically but really think about it. If you don't pay the fine they will try to arrest you. If you don't allow them to arrest you they will kill you. The penalty for not complying is literally death. \n",
      "\n",
      "43 gt 330 million people So what \n",
      "\n",
      "44 and what part of gt if you're not encountering other people there's no risk of transmitting the virus to others. doesn't answer your question \n",
      "\n",
      "45 Thats what I'm saying. Making things reasonably priced in america will keep people here and spending money here. It's a win win convenience price and business. \n",
      "\n",
      "46 You also can t take an unnecessary fault from the past and throw out the whole idea because of that fault. It would be possible to include non white landowners in that philosophy. The fact that they didn t doesn t mean it is not possible. In fact it is possible and anyone with a lick of intellectual honesty will admit that. That kind of thinking is why we are unable to solve the problems of our society today. \n",
      "\n",
      "47 I don t believe monopolies exist in a free market and if they do it s not for long. Government regulations preventing competitors coming into the free market are the cause of monopoly formations \n",
      "\n",
      "48 Im just waiting for a replacement government to come... Im ready for war but the organization simply isnt there yet. \n",
      "\n",
      "49 gt Also not all laws are made because the market demanded. Senators get raises frequently but the market doesn t really demand that right If elections are considered a part of the market then yes the market did demand it by voting for Senators who would vote to raise their own pay. Aren't Democratic Republics grand gt Causation only economic arguments are hard to prove. This is why economics is considered a soft science. Causation is hard to prove models are based on idealized rational situations and personal opinion is often shared as fact. \n",
      "\n",
      "50 The government s public school history books are warped and sanitized as requested by the financial successors to brutal institutions to leave out anything that might allow a person to connect the dots between old injustice and new. E.g most of us learned about the civil war and antebellum and then skipped forward 50 years to Jim Crow. Willful omission of the convict leasing and proliferation of trivial crimes that happened in between is why the notion that black man criminal is still pervasive 100 years later. Another example of public education being an abject failure waste of money and in this case a propaganda machine. \n",
      "\n"
     ]
    }
   ],
   "source": [
    "counter = 1\n",
    "for i in range(0,len(df_test)):\n",
    "    print(counter, df_test[\"body\"].tolist()[i], \"\\n\")\n",
    "    counter += 1"
   ]
  },
  {
   "cell_type": "code",
   "execution_count": 12,
   "metadata": {},
   "outputs": [],
   "source": [
    "# as before, 1 represents liberal and 0 represents conservative\n",
    "# these values are my opinion on the political slant of the comments\n",
    "slant_list = [1, 0, 0, 1, 1,  1, 1, 0, 0, 0, # 1-10\n",
    "              1, 0, 1, 1, 1,  0, 0, 1, 1, 1, # 11-20\n",
    "              0, 0, 0, 0, 0,  0, 0, 0, 1, 1, # 21-30\n",
    "              1, 1, 0, 0, 0,  1, 1, 1, 0, 1, # 31-40\n",
    "              1, 1, 0, 0, 0,  0, 0, 0, 0, 1] # 41-50\n",
    "\n",
    "df_test[\"slant\"] = slant_list"
   ]
  },
  {
   "cell_type": "code",
   "execution_count": 13,
   "metadata": {},
   "outputs": [
    {
     "name": "stdout",
     "output_type": "stream",
     "text": [
      "0.54\n"
     ]
    }
   ],
   "source": [
    "# baseline score\n",
    "print(1 - sum(slant_list)/len(slant_list))"
   ]
  },
  {
   "cell_type": "code",
   "execution_count": 14,
   "metadata": {},
   "outputs": [
    {
     "name": "stdout",
     "output_type": "stream",
     "text": [
      "0.7\n"
     ]
    }
   ],
   "source": [
    "X_test_liber = df_test[\"body\"]\n",
    "\n",
    "X_test_liber = vec_fitted.transform(X_test_liber)\n",
    "\n",
    "X_test_liber = ft.transform(X_test_liber)\n",
    "\n",
    "df_test[\"predicted_slant\"] = best_model.predict(X_test_liber)\n",
    "\n",
    "y_test_liber = df_test[\"slant\"]\n",
    "\n",
    "# test score\n",
    "print(best_model.score(X_test_liber, y_test_liber))"
   ]
  },
  {
   "cell_type": "markdown",
   "metadata": {},
   "source": [
    "**The model was 16% more accurate than baseline (a model that guesses based on the majority percentage).**"
   ]
  },
  {
   "cell_type": "code",
   "execution_count": 15,
   "metadata": {},
   "outputs": [
    {
     "data": {
      "text/html": [
       "<div>\n",
       "<style scoped>\n",
       "    .dataframe tbody tr th:only-of-type {\n",
       "        vertical-align: middle;\n",
       "    }\n",
       "\n",
       "    .dataframe tbody tr th {\n",
       "        vertical-align: top;\n",
       "    }\n",
       "\n",
       "    .dataframe thead th {\n",
       "        text-align: right;\n",
       "    }\n",
       "</style>\n",
       "<table border=\"1\" class=\"dataframe\">\n",
       "  <thead>\n",
       "    <tr style=\"text-align: right;\">\n",
       "      <th></th>\n",
       "      <th>Predicted Conservative</th>\n",
       "      <th>Predicted Liberal</th>\n",
       "    </tr>\n",
       "  </thead>\n",
       "  <tbody>\n",
       "    <tr>\n",
       "      <th>Actual Conservative</th>\n",
       "      <td>24</td>\n",
       "      <td>3</td>\n",
       "    </tr>\n",
       "    <tr>\n",
       "      <th>Actual Liberal</th>\n",
       "      <td>12</td>\n",
       "      <td>11</td>\n",
       "    </tr>\n",
       "  </tbody>\n",
       "</table>\n",
       "</div>"
      ],
      "text/plain": [
       "                     Predicted Conservative  Predicted Liberal\n",
       "Actual Conservative                      24                  3\n",
       "Actual Liberal                           12                 11"
      ]
     },
     "execution_count": 15,
     "metadata": {},
     "output_type": "execute_result"
    }
   ],
   "source": [
    "# compare actual slants to what the model predicts\n",
    "cm = confusion_matrix(df_test[\"slant\"], df_test[\"predicted_slant\"]) \n",
    "cm_df = pd.DataFrame(cm, columns = [\"Predicted Conservative\", \"Predicted Liberal\"], index = [\"Actual Conservative\", \"Actual Liberal\"])\n",
    "cm_df"
   ]
  },
  {
   "cell_type": "code",
   "execution_count": 16,
   "metadata": {},
   "outputs": [],
   "source": [
    "tn, fp, fn, tp = confusion_matrix(df_test[\"slant\"], df_test[\"predicted_slant\"]).ravel()"
   ]
  },
  {
   "cell_type": "code",
   "execution_count": 17,
   "metadata": {},
   "outputs": [
    {
     "name": "stdout",
     "output_type": "stream",
     "text": [
      "Correctly Predicted Conservatives: 24\n",
      "Incorrectly Predicted Liberals: 3\n",
      "Incorrectly Predicted Conservatives: 12\n",
      "Correctly Predicted Liberals: 11\n"
     ]
    }
   ],
   "source": [
    "print(\"Correctly Predicted Conservatives: %s\" % tn)\n",
    "print(\"Incorrectly Predicted Liberals: %s\" % fp)\n",
    "print(\"Incorrectly Predicted Conservatives: %s\" % fn)\n",
    "print(\"Correctly Predicted Liberals: %s\" % tp)"
   ]
  },
  {
   "cell_type": "code",
   "execution_count": 18,
   "metadata": {},
   "outputs": [
    {
     "data": {
      "image/png": "[encoded data removed]",
      "text/plain": [
       "<Figure size 720x720 with 2 Axes>"
      ]
     },
     "metadata": {
      "needs_background": "light"
     },
     "output_type": "display_data"
    }
   ],
   "source": [
    "disp = plot_confusion_matrix(best_model, X_test_liber, y_test_liber, cmap = \"Greens\", values_format = \".3g\",\n",
    "                             display_labels = [\"Conservative\", \"Liberal\"])\n",
    "fig = plt.gcf()\n",
    "fig.set_size_inches(10, 10)\n",
    "plt.title('Correctness of Model Predictions', fontsize = 20)\n",
    "plt.xlabel('Model Prediction', fontsize = 16)\n",
    "plt.ylabel('Actual', fontsize = 16)\n",
    "plt.show()"
   ]
  },
  {
   "cell_type": "markdown",
   "metadata": {},
   "source": [
    "**The model mischaracterized 12 of 23 (52.2%) of liberals , and 3 of 27 (11.1%) of conservatives.**"
   ]
  },
  {
   "cell_type": "code",
   "execution_count": 19,
   "metadata": {},
   "outputs": [],
   "source": [
    "df_test[\"probability_of_predictions\"] = best_model.predict_proba(X_test_liber)[:,1]"
   ]
  },
  {
   "cell_type": "code",
   "execution_count": 20,
   "metadata": {},
   "outputs": [
    {
     "data": {
      "text/plain": [
       "0.6360708534621577"
      ]
     },
     "execution_count": 20,
     "metadata": {},
     "output_type": "execute_result"
    }
   ],
   "source": [
    "roc_auc_score(df_test[\"slant\"], df_test[\"probability_of_predictions\"])"
   ]
  },
  {
   "cell_type": "code",
   "execution_count": 21,
   "metadata": {
    "scrolled": false
   },
   "outputs": [
    {
     "data": {
      "image/png": "[encoded data removed]",
      "text/plain": [
       "<Figure size 720x504 with 1 Axes>"
      ]
     },
     "metadata": {
      "needs_background": "light"
     },
     "output_type": "display_data"
    }
   ],
   "source": [
    "plt.figure(figsize = (10,7))\n",
    "\n",
    "thresholds = np.linspace(0, 1, 200)\n",
    "\n",
    "# sensitivity (true positive rate)\n",
    "def TPR(df, true_col, pred_prob_col, threshold):\n",
    "    true_positive = df[(df[true_col] == 1) & (df[pred_prob_col] >= threshold)].shape[0]\n",
    "    false_negative = df[(df[true_col] == 1) & (df[pred_prob_col] < threshold)].shape[0]\n",
    "    return true_positive / (true_positive + false_negative)\n",
    "    \n",
    "\n",
    "# 1 - specificity (false positive rate)\n",
    "def FPR(df, true_col, pred_prob_col, threshold):\n",
    "    true_negative = df[(df[true_col] == 0) & (df[pred_prob_col] <= threshold)].shape[0]\n",
    "    false_positive = df[(df[true_col] == 0) & (df[pred_prob_col] > threshold)].shape[0]\n",
    "    return 1 - (true_negative / (true_negative + false_positive))\n",
    "    \n",
    "# sensitivity & 1 - specificity for each threshold between 0 and 1\n",
    "tpr_values = [TPR(df_test, 'slant', 'probability_of_predictions', prob) for prob in thresholds]\n",
    "fpr_values = [FPR(df_test, 'slant', 'probability_of_predictions', prob) for prob in thresholds]\n",
    "\n",
    "# ROC curve for liberals\n",
    "plt.plot(fpr_values, # false positive rate on X-axis\n",
    "         tpr_values, # true positive rate on Y-axis\n",
    "         label = 'Model')\n",
    "\n",
    "# baseline (perfect overlap between the two populations)\n",
    "plt.plot(np.linspace(0, 1, 200),\n",
    "         np.linspace(0, 1, 200),\n",
    "         label = 'Baseline',\n",
    "         linestyle = '--')\n",
    "\n",
    "plt.title('Ability of Model to Tell Whether User Is Liberal', fontsize = 22)\n",
    "plt.ylabel('Fraction of Correctly Classified Liberals', fontsize = 18)\n",
    "plt.xlabel('Fraction of Incorrectly Classified Liberals', fontsize = 18)\n",
    "\n",
    "plt.legend(fontsize = 16);"
   ]
  },
  {
   "cell_type": "code",
   "execution_count": 22,
   "metadata": {},
   "outputs": [
    {
     "data": {
      "image/png": "[encoded data removed]",
      "text/plain": [
       "<Figure size 720x504 with 1 Axes>"
      ]
     },
     "metadata": {
      "needs_background": "light"
     },
     "output_type": "display_data"
    }
   ],
   "source": [
    "plt.figure(figsize = (10,7))\n",
    "\n",
    "thresholds = np.linspace(0, 1, 200)\n",
    "\n",
    "# specificity (true negative rate)\n",
    "def TNR(df, true_col, pred_prob_col, threshold):\n",
    "    true_negative = df[(df[true_col] == 1) & (df[pred_prob_col] <= threshold)].shape[0]\n",
    "    false_positive = df[(df[true_col] == 0) & (df[pred_prob_col] > threshold)].shape[0]\n",
    "    return true_negative / (true_negative + false_positive)\n",
    "    \n",
    "\n",
    "# 1 - sensitivity (false negative rate)\n",
    "def FNR(df, true_col, pred_prob_col, threshold):\n",
    "    true_positive = df[(df[true_col] == 1) & (df[pred_prob_col] >= threshold)].shape[0]\n",
    "    false_negative = df[(df[true_col] == 1) & (df[pred_prob_col] < threshold)].shape[0]\n",
    "    return 1 - (true_positive / (true_positive + false_negative))\n",
    "    \n",
    "# sensitivity & 1 - specificity for each threshold between 0 and 1\n",
    "tnr_values = [TNR(df_test, 'slant', 'probability_of_predictions', prob) for prob in thresholds]\n",
    "fnr_values = [FNR(df_test, 'slant', 'probability_of_predictions', prob) for prob in thresholds]\n",
    "\n",
    "# ROC curve for conservatives\n",
    "plt.plot(fnr_values, # false positive rate on X-axis\n",
    "         tnr_values, # true positive rate on Y-axis\n",
    "         label = 'Model')\n",
    "\n",
    "# baseline (perfect overlap between the two populations)\n",
    "plt.plot(np.linspace(0, 1, 200),\n",
    "         np.linspace(0, 1, 200),\n",
    "         label = 'Baseline',\n",
    "         linestyle = '--')\n",
    "\n",
    "plt.title('Ability of Model to Tell Whether User Is Conservative', fontsize = 22)\n",
    "plt.ylabel('Fraction of Correctly Classified Conservatives', fontsize = 18)\n",
    "plt.xlabel('Fraction of Incorrectly Classified Conservatives', fontsize = 18)\n",
    "\n",
    "plt.legend(fontsize = 16);"
   ]
  },
  {
   "cell_type": "markdown",
   "metadata": {},
   "source": [
    "**The AUC score is .636 (compared to a maximum of 1, a baseline of 0.5, and a minimum of 0).**<br>\n",
    "**The words used by the liberal libertarians and the words used by the conservative libertarians in the model have significant overlap.**<br>\n",
    "**The model is noticeably better than random guessing.**"
   ]
  },
  {
   "cell_type": "markdown",
   "metadata": {},
   "source": [
    "## Run the Model on the Libertarian Subreddit"
   ]
  },
  {
   "cell_type": "code",
   "execution_count": 23,
   "metadata": {},
   "outputs": [
    {
     "data": {
      "text/html": [
       "<div>\n",
       "<style scoped>\n",
       "    .dataframe tbody tr th:only-of-type {\n",
       "        vertical-align: middle;\n",
       "    }\n",
       "\n",
       "    .dataframe tbody tr th {\n",
       "        vertical-align: top;\n",
       "    }\n",
       "\n",
       "    .dataframe thead th {\n",
       "        text-align: right;\n",
       "    }\n",
       "</style>\n",
       "<table border=\"1\" class=\"dataframe\">\n",
       "  <thead>\n",
       "    <tr style=\"text-align: right;\">\n",
       "      <th></th>\n",
       "      <th>subreddit</th>\n",
       "      <th>subreddit_id</th>\n",
       "      <th>author</th>\n",
       "      <th>author_fullname</th>\n",
       "      <th>body</th>\n",
       "    </tr>\n",
       "  </thead>\n",
       "  <tbody>\n",
       "    <tr>\n",
       "      <th>0</th>\n",
       "      <td>Libertarian</td>\n",
       "      <td>t5_2qh63</td>\n",
       "      <td>mc2222</td>\n",
       "      <td>t2_5nnka</td>\n",
       "      <td>gt People have a right to go out into public a...</td>\n",
       "    </tr>\n",
       "    <tr>\n",
       "      <th>1</th>\n",
       "      <td>Libertarian</td>\n",
       "      <td>t5_2qh63</td>\n",
       "      <td>certifus</td>\n",
       "      <td>t2_883if</td>\n",
       "      <td>I'm more red than blue on this issue. The ques...</td>\n",
       "    </tr>\n",
       "    <tr>\n",
       "      <th>2</th>\n",
       "      <td>Libertarian</td>\n",
       "      <td>t5_2qh63</td>\n",
       "      <td>Maxdpage</td>\n",
       "      <td>t2_2epv03j9</td>\n",
       "      <td>I completely agree 330 Million is also close t...</td>\n",
       "    </tr>\n",
       "    <tr>\n",
       "      <th>3</th>\n",
       "      <td>Libertarian</td>\n",
       "      <td>t5_2qh63</td>\n",
       "      <td>FrenchLlamas</td>\n",
       "      <td>t2_5ko8sd21</td>\n",
       "      <td>You're not an internet moron if you don't feel...</td>\n",
       "    </tr>\n",
       "    <tr>\n",
       "      <th>4</th>\n",
       "      <td>Libertarian</td>\n",
       "      <td>t5_2qh63</td>\n",
       "      <td>Arkansas_Red</td>\n",
       "      <td>t2_14c6r0</td>\n",
       "      <td>Finally someone who can read</td>\n",
       "    </tr>\n",
       "    <tr>\n",
       "      <th>...</th>\n",
       "      <td>...</td>\n",
       "      <td>...</td>\n",
       "      <td>...</td>\n",
       "      <td>...</td>\n",
       "      <td>...</td>\n",
       "    </tr>\n",
       "    <tr>\n",
       "      <th>6465</th>\n",
       "      <td>Libertarian</td>\n",
       "      <td>t5_2qh63</td>\n",
       "      <td>GppDNAppA</td>\n",
       "      <td>t2_ucvca</td>\n",
       "      <td>There are a lot of different arguments in that...</td>\n",
       "    </tr>\n",
       "    <tr>\n",
       "      <th>6466</th>\n",
       "      <td>Libertarian</td>\n",
       "      <td>t5_2qh63</td>\n",
       "      <td>howmanypintobeans</td>\n",
       "      <td>t2_mjb66su</td>\n",
       "      <td>Trump is a total douchebag but he doesn t have...</td>\n",
       "    </tr>\n",
       "    <tr>\n",
       "      <th>6467</th>\n",
       "      <td>Libertarian</td>\n",
       "      <td>t5_2qh63</td>\n",
       "      <td>BriefingScree</td>\n",
       "      <td>t2_147g3w</td>\n",
       "      <td>They can require residency. Canadian provinces...</td>\n",
       "    </tr>\n",
       "    <tr>\n",
       "      <th>6468</th>\n",
       "      <td>Libertarian</td>\n",
       "      <td>t5_2qh63</td>\n",
       "      <td>MrStkrdknmibalzz</td>\n",
       "      <td>t2_28zy2z74</td>\n",
       "      <td>Lmao wow you really thought you were going to ...</td>\n",
       "    </tr>\n",
       "    <tr>\n",
       "      <th>6469</th>\n",
       "      <td>Libertarian</td>\n",
       "      <td>t5_2qh63</td>\n",
       "      <td>HohlraumHe3</td>\n",
       "      <td>t2_zo3lt</td>\n",
       "      <td>Yeah the people of Italy over 60 must have bee...</td>\n",
       "    </tr>\n",
       "  </tbody>\n",
       "</table>\n",
       "<p>6470 rows × 5 columns</p>\n",
       "</div>"
      ],
      "text/plain": [
       "        subreddit subreddit_id             author author_fullname  \\\n",
       "0     Libertarian     t5_2qh63             mc2222        t2_5nnka   \n",
       "1     Libertarian     t5_2qh63           certifus        t2_883if   \n",
       "2     Libertarian     t5_2qh63           Maxdpage     t2_2epv03j9   \n",
       "3     Libertarian     t5_2qh63       FrenchLlamas     t2_5ko8sd21   \n",
       "4     Libertarian     t5_2qh63       Arkansas_Red       t2_14c6r0   \n",
       "...           ...          ...                ...             ...   \n",
       "6465  Libertarian     t5_2qh63          GppDNAppA        t2_ucvca   \n",
       "6466  Libertarian     t5_2qh63  howmanypintobeans      t2_mjb66su   \n",
       "6467  Libertarian     t5_2qh63      BriefingScree       t2_147g3w   \n",
       "6468  Libertarian     t5_2qh63   MrStkrdknmibalzz     t2_28zy2z74   \n",
       "6469  Libertarian     t5_2qh63        HohlraumHe3        t2_zo3lt   \n",
       "\n",
       "                                                   body  \n",
       "0     gt People have a right to go out into public a...  \n",
       "1     I'm more red than blue on this issue. The ques...  \n",
       "2     I completely agree 330 Million is also close t...  \n",
       "3     You're not an internet moron if you don't feel...  \n",
       "4                          Finally someone who can read  \n",
       "...                                                 ...  \n",
       "6465  There are a lot of different arguments in that...  \n",
       "6466  Trump is a total douchebag but he doesn t have...  \n",
       "6467  They can require residency. Canadian provinces...  \n",
       "6468  Lmao wow you really thought you were going to ...  \n",
       "6469  Yeah the people of Italy over 60 must have bee...  \n",
       "\n",
       "[6470 rows x 5 columns]"
      ]
     },
     "execution_count": 23,
     "metadata": {},
     "output_type": "execute_result"
    }
   ],
   "source": [
    "df_l"
   ]
  },
  {
   "cell_type": "code",
   "execution_count": 24,
   "metadata": {},
   "outputs": [],
   "source": [
    "X_liber = df_l[\"body\"]\n",
    "\n",
    "X_liber = vec_fitted.transform(X_liber)\n",
    "\n",
    "X_liber = ft.transform(X_liber)\n",
    "\n",
    "df_l[\"predicted_slant\"] = best_model.predict(X_liber)\n",
    "\n",
    "df_l[\"probability_of_predictions\"] = best_model.predict_proba(X_liber)[:,1]"
   ]
  },
  {
   "cell_type": "code",
   "execution_count": 32,
   "metadata": {},
   "outputs": [
    {
     "data": {
      "text/plain": [
       "0    0.704328\n",
       "1    0.295672\n",
       "Name: predicted_slant, dtype: float64"
      ]
     },
     "execution_count": 32,
     "metadata": {},
     "output_type": "execute_result"
    }
   ],
   "source": [
    "df_l[\"predicted_slant\"].value_counts(normalize = True)"
   ]
  },
  {
   "cell_type": "markdown",
   "metadata": {},
   "source": [
    "## Analyze Libertarian Subreddit Users"
   ]
  },
  {
   "cell_type": "code",
   "execution_count": 26,
   "metadata": {},
   "outputs": [],
   "source": [
    "user_views = pd.DataFrame(df_l.groupby(\"author\")[\"predicted_slant\"].mean())"
   ]
  },
  {
   "cell_type": "code",
   "execution_count": 27,
   "metadata": {},
   "outputs": [],
   "source": [
    "predicted_slant_binary = []\n",
    "for i in range(0,len(user_views)):\n",
    "    if user_views.iloc[i,0] >= 0.5:\n",
    "        predicted_slant_binary.append(1)\n",
    "    else:\n",
    "        predicted_slant_binary.append(0)\n",
    "user_views[\"predicted_slant_binary\"] = predicted_slant_binary"
   ]
  },
  {
   "cell_type": "code",
   "execution_count": 28,
   "metadata": {},
   "outputs": [
    {
     "data": {
      "text/plain": [
       "0.6446862996158771"
      ]
     },
     "execution_count": 28,
     "metadata": {},
     "output_type": "execute_result"
    }
   ],
   "source": [
    "1-user_views[\"predicted_slant_binary\"].mean()"
   ]
  },
  {
   "cell_type": "markdown",
   "metadata": {},
   "source": [
    "**35.5% of libertarian users leaned liberal, and 64.5% leaned conservative**"
   ]
  },
  {
   "cell_type": "markdown",
   "metadata": {},
   "source": [
    "## Examine Most Common Words in Each Subreddit"
   ]
  },
  {
   "cell_type": "markdown",
   "metadata": {},
   "source": [
    "**(Excluding words so common that they're in more than 1% of comments in that subreddit.)**"
   ]
  },
  {
   "cell_type": "code",
   "execution_count": 39,
   "metadata": {},
   "outputs": [
    {
     "data": {
      "text/plain": [
       "array(['yet', 'fucked', 'days', 'death', 'different', 'donald', 'easy',\n",
       "       'economy', 'elections', 'entire', 'fine', 'fox', 'full', 'white',\n",
       "       'given', 'god', 'gop', 'guns', 'hate', 'healthcare', 'honestly',\n",
       "       'impeachment', 'insurance', 'jared', 'course'], dtype='<U11')"
      ]
     },
     "execution_count": 39,
     "metadata": {},
     "output_type": "execute_result"
    }
   ],
   "source": [
    "X_p = pd.read_csv(\"../datasets/politics_subreddit_latest_6500_cleaned.csv\", squeeze = True)[\"body\"]\n",
    "cvec_p = CountVectorizer(max_features = 100, ngram_range = (1,1), max_df = .01)\n",
    "cvec_p.fit(X_p)\n",
    "X_p = cvec_p.transform(X_p)\n",
    "\n",
    "feature_array_p = np.array(cvec_p.get_feature_names())\n",
    "vec_sorting_p = np.argsort(X_p.toarray()).flatten()[::-1]\n",
    "\n",
    "n = 25\n",
    "top_n_p = feature_array_p[vec_sorting_p][:n]\n",
    "top_n_p"
   ]
  },
  {
   "cell_type": "code",
   "execution_count": 40,
   "metadata": {},
   "outputs": [
    {
     "data": {
      "text/plain": [
       "array(['york', 'gets', 'dying', 'each', 'essential', 'except', 'experts',\n",
       "       'face', 'family', 'fauci', 'fever', 'force', 'global', 'willing',\n",
       "       'god', 'goes', 'guys', 'hell', 'higher', 'hospital', 'id',\n",
       "       'information', 'laws', 'liberty', 'dont'], dtype='<U14')"
      ]
     },
     "execution_count": 40,
     "metadata": {},
     "output_type": "execute_result"
    }
   ],
   "source": [
    "X_c = pd.read_csv(\"../datasets/conservative_subreddit_latest_6500_cleaned.csv\", squeeze = True)[\"body\"]\n",
    "cvec_c = CountVectorizer(max_features = 100, ngram_range = (1,1), max_df = .01)\n",
    "cvec_c.fit(X_c)\n",
    "X_c = cvec_c.transform(X_c)\n",
    "\n",
    "feature_array_c = np.array(cvec_c.get_feature_names())\n",
    "vec_sorting_c = np.argsort(X_c.toarray()).flatten()[::-1]\n",
    "\n",
    "n = 25\n",
    "top_n_c = feature_array_c[vec_sorting_c][:n]\n",
    "top_n_c"
   ]
  },
  {
   "cell_type": "code",
   "execution_count": 41,
   "metadata": {},
   "outputs": [
    {
     "data": {
      "text/plain": [
       "array(['italy', 'paid', 'worst', 'gouging', 'data', 'deal', 'demand',\n",
       "       'distancing', 'doctor', 'effective', 'essential', 'false', 'goes',\n",
       "       'gun', 'grocery', 'lower', 'haven', 'her', 'idiot', 'idiots',\n",
       "       'industry', 'land', 'large', 'liberty', 'cost'], dtype='<U11')"
      ]
     },
     "execution_count": 41,
     "metadata": {},
     "output_type": "execute_result"
    }
   ],
   "source": [
    "X_l = pd.read_csv(\"../datasets/libertarian_subreddit_latest_6500_cleaned.csv\", squeeze = True)[\"body\"]\n",
    "cvec_l = CountVectorizer(max_features = 100, ngram_range = (1,1), max_df = .01)\n",
    "cvec_l.fit(X_l)\n",
    "X_l = cvec_l.transform(X_l)\n",
    "\n",
    "feature_array_l = np.array(cvec_l.get_feature_names())\n",
    "vec_sorting_l = np.argsort(X_l.toarray()).flatten()[::-1]\n",
    "\n",
    "n = 25\n",
    "top_n_l = feature_array_l[vec_sorting_l][:n]\n",
    "top_n_l"
   ]
  },
  {
   "cell_type": "markdown",
   "metadata": {},
   "source": [
    "## Summary and Further Research"
   ]
  },
  {
   "cell_type": "markdown",
   "metadata": {},
   "source": [
    "- The model is noticeably more effective than guessing:\n",
    "    - The model correctly recognizes comments from self-identified liberals and conservatives 70% of the time.\n",
    "    - Guessing liberal based on the majority would be correct 51% of the time.\n",
    "    - The model correctly recognizes comments from liberals and conservatives among self-identified libertarians 70% of the time.\n",
    "    - Guessing conservative based on the majority would be correct 54% of the time. \n",
    "- The words used by the liberal libertarians and the conservative libertarians in the model had significant overlap:\n",
    "    - An AUC score of 1 would mean the model can always tell apart liberals and conservatives, and an AUC score of 0.5 would mean model can't tell them apart at all. This model had an AUC score of 0.636.\n",
    "- Out of the users that left the comments, 35.5% leaned liberal and 64.5% leaned conservative\n",
    "- Liberal, conservative, and libertarian commenters have characteristic words:\n",
    "    - Liberal: 'yet', 'fucked', 'days', 'death', 'different', 'donald', 'easy',\n",
    "       'economy', 'elections', 'entire', 'fine', 'fox', 'full', 'white',\n",
    "       'given', 'god', 'gop', 'guns', 'hate', 'healthcare'\n",
    "    - Conservative: '[new] york', 'gets', 'dying', 'each', 'essential', 'except', 'experts',\n",
    "       'face', 'family', 'fauci', 'fever', 'force', 'global', 'willing',\n",
    "       'god', 'goes', 'guys', 'hell', 'higher', 'hospital'\n",
    "    - Libertarian: 'italy', 'paid', 'worst', 'gouging', 'data', 'deal', 'demand',\n",
    "       'distancing', 'doctor', 'effective', 'essential', 'false', 'goes',\n",
    "       'gun', 'grocery', 'lower', 'haven'[t], 'her', 'idiot', 'idiots'\n",
    "- All users have to log in to post comments, and logged in users see targeted ads\n",
    "- This model could be used to target candidate ads to libertarian users to sway them in the elections\n",
    "- Targeting ads towards libertarian users based on their comments would be more effective than paying for random ads\n",
    "- Further areas of optimization:\n",
    "    - Include far-right and far-left subreddit comment data for training the model\n",
    "    - Tune more hyperparameters of the model, such as the maximum frequency of filler words (stop words) in the data\n",
    "    - Crowd-source data on political slant by comment for the training dataset, instead of assuming that self-identified conservatives and liberals are conservative and liberal, respectively"
   ]
  },
  {
   "cell_type": "code",
   "execution_count": null,
   "metadata": {},
   "outputs": [],
   "source": []
  }
 ],
 "metadata": {
  "kernelspec": {
   "display_name": "Python 3",
   "language": "python",
   "name": "python3"
  },
  "language_info": {
   "codemirror_mode": {
    "name": "ipython",
    "version": 3
   },
   "file_extension": ".py",
   "mimetype": "text/x-python",
   "name": "python",
   "nbconvert_exporter": "python",
   "pygments_lexer": "ipython3",
   "version": "3.7.7"
  }
 },
 "nbformat": 4,
 "nbformat_minor": 4
}
