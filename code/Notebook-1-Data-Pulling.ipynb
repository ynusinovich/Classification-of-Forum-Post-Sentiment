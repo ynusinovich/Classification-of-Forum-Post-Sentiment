{
 "cells": [
  {
   "cell_type": "markdown",
   "metadata": {},
   "source": [
    "# Project 3: Web APIs & NLP\n",
    "# Notebook 1: Data Pulling\n",
    "\n",
    "https://github.com/pushshift/api<br>\n",
    "https://api.pushshift.io/reddit/search/comment/"
   ]
  },
  {
   "cell_type": "markdown",
   "metadata": {},
   "source": [
    "## Contents\n",
    "- [Goal](#Goal)\n",
    "- [Import Libraries](#Import-Libraries)\n",
    "- [Import Comments from Subreddits and Save Relevant Data](#Import-Comments-from-Subreddits-and-Save-Relevant-Data)"
   ]
  },
  {
   "cell_type": "markdown",
   "metadata": {},
   "source": [
    "## Goal\n",
    "I’m a data scientist for a data science startup that has been hired by Reddit. We are using the latest 6,500 comments from the r/conservative (right-wing) and r/politics (left-wing) subreddits to train and validate our model, and then we will test the model on 50 posts from r/libertarian to see if the model succesfully predicts whether the comment is right-leaning or left-leaning. We will calculate the average political views for those r/libertarian commenters' usernames, and Reddit will offer Republican and Democrat organizations the opportunity to market ads towards the conservative-leaning libertarians and the liberal-leaning libertarians, respectively, to try to win them over before the election."
   ]
  },
  {
   "cell_type": "markdown",
   "metadata": {},
   "source": [
    "## Import Libraries"
   ]
  },
  {
   "cell_type": "code",
   "execution_count": 39,
   "metadata": {},
   "outputs": [],
   "source": [
    "import requests\n",
    "import pandas as pd\n",
    "import time\n",
    "\n",
    "pd.set_option('display.max_columns', 40)\n",
    "pd.set_option('display.max_rows', 100)"
   ]
  },
  {
   "cell_type": "markdown",
   "metadata": {},
   "source": [
    "## Import Comments from Subreddits and Save Relevant Data"
   ]
  },
  {
   "cell_type": "markdown",
   "metadata": {},
   "source": [
    "**Based on reviewing Reddit comments, the comments in r/politics tend to be liberal, the comments in r/conservative tend to be conservative, and the comments in r/libertarian are sometimes liberal-leaning and sometimes conservative-leaning.**"
   ]
  },
  {
   "cell_type": "code",
   "execution_count": 40,
   "metadata": {},
   "outputs": [],
   "source": [
    "url = \"https://api.pushshift.io/reddit/search/comment/\""
   ]
  },
  {
   "cell_type": "code",
   "execution_count": 41,
   "metadata": {},
   "outputs": [],
   "source": [
    "counter = 0\n",
    "posts_p_before = None\n",
    "posts_c_before = None\n",
    "posts_l_before = None\n",
    "df_p = pd.DataFrame([])\n",
    "df_c = pd.DataFrame([])\n",
    "df_l = pd.DataFrame([])\n",
    "\n",
    "while counter <= 6000:\n",
    "\n",
    "    params_p = {\n",
    "        \"subreddit\": \"politics\",\n",
    "        \"size\": 500,\n",
    "        \"before\": posts_p_before\n",
    "    }\n",
    "    req_p = requests.get(url, params_p)\n",
    "    data_p = req_p.json()\n",
    "    posts_p = data_p[\"data\"]\n",
    "    df_p = df_p.append(pd.DataFrame(posts_p))\n",
    "    posts_p_before = posts_p[499][\"created_utc\"]\n",
    "    time.sleep(.1) # don't overload the Reddit server\n",
    "\n",
    "    params_c = {\n",
    "        \"subreddit\": \"conservative\",\n",
    "        \"size\": 500,\n",
    "        \"before\": posts_c_before\n",
    "    }\n",
    "    req_c = requests.get(url, params_c)\n",
    "    data_c = req_c.json()\n",
    "    posts_c = data_c[\"data\"]\n",
    "    df_c = df_c.append(pd.DataFrame(posts_c))\n",
    "    posts_c_before = posts_c[499][\"created_utc\"]\n",
    "    time.sleep(.1) # don't overload the Reddit server\n",
    "\n",
    "    params_l = {\n",
    "        \"subreddit\": \"libertarian\",\n",
    "        \"size\": 500,\n",
    "        \"before\": posts_l_before\n",
    "    }\n",
    "    req_l = requests.get(url, params_l)\n",
    "    data_l = req_l.json()\n",
    "    posts_l = data_l[\"data\"]\n",
    "    df_l = df_l.append(pd.DataFrame(posts_l))\n",
    "    posts_l_before = posts_l[499][\"created_utc\"]\n",
    "    time.sleep(.1) # don't overload the Reddit server\n",
    "\n",
    "    counter += 500"
   ]
  },
  {
   "cell_type": "code",
   "execution_count": 42,
   "metadata": {},
   "outputs": [],
   "source": [
    "df_p = df_p[[\"subreddit\", \"subreddit_id\", \"author\", \"author_fullname\", \"author_flair_text\", \"body\"]]\n",
    "df_c = df_c[[\"subreddit\", \"subreddit_id\", \"author\", \"author_fullname\", \"author_flair_text\", \"body\"]]\n",
    "df_l = df_l[[\"subreddit\", \"subreddit_id\", \"author\", \"author_fullname\", \"author_flair_text\", \"body\"]]"
   ]
  },
  {
   "cell_type": "code",
   "execution_count": 43,
   "metadata": {},
   "outputs": [],
   "source": [
    "df_p.to_csv(\"../datasets/politics_subreddit_latest_6500.csv\", index = False)\n",
    "df_c.to_csv(\"../datasets/conservative_subreddit_latest_6500.csv\", index = False)\n",
    "df_l.to_csv(\"../datasets/libertarian_subreddit_latest_6500.csv\", index = False)"
   ]
  },
  {
   "cell_type": "markdown",
   "metadata": {},
   "source": [
    "## See Notebook 2 for Data Cleaning"
   ]
  },
  {
   "cell_type": "code",
   "execution_count": null,
   "metadata": {},
   "outputs": [],
   "source": []
  }
 ],
 "metadata": {
  "kernelspec": {
   "display_name": "Python 3",
   "language": "python",
   "name": "python3"
  },
  "language_info": {
   "codemirror_mode": {
    "name": "ipython",
    "version": 3
   },
   "file_extension": ".py",
   "mimetype": "text/x-python",
   "name": "python",
   "nbconvert_exporter": "python",
   "pygments_lexer": "ipython3",
   "version": "3.7.7"
  }
 },
 "nbformat": 4,
 "nbformat_minor": 4
}
