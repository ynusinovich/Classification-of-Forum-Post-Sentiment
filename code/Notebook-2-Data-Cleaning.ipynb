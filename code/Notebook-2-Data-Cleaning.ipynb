{
 "cells": [
  {
   "cell_type": "markdown",
   "metadata": {},
   "source": [
    "# Project 3: Web APIs & NLP\n",
    "# Notebook 2: Data Cleaning\n",
    "\n",
    "https://github.com/pushshift/api<br>\n",
    "https://api.pushshift.io/reddit/search/comment/"
   ]
  },
  {
   "cell_type": "markdown",
   "metadata": {},
   "source": [
    "## Contents\n",
    "- [Import Libraries and Data](#Import-Libraries-and-Data)\n",
    "- [Data Cleaning](#Data-Cleaning)\n",
    "- [Save Data](#Save-Data)"
   ]
  },
  {
   "cell_type": "markdown",
   "metadata": {},
   "source": [
    "## Import Libraries and Data"
   ]
  },
  {
   "cell_type": "code",
   "execution_count": 1,
   "metadata": {},
   "outputs": [],
   "source": [
    "import regex as re\n",
    "import pandas as pd\n",
    "\n",
    "pd.set_option('display.max_columns', 40)\n",
    "pd.set_option('display.max_rows', 100)"
   ]
  },
  {
   "cell_type": "code",
   "execution_count": 2,
   "metadata": {},
   "outputs": [],
   "source": [
    "df_p = pd.read_csv(\"../datasets/politics_subreddit_latest_6500.csv\")\n",
    "df_c = pd.read_csv(\"../datasets/conservative_subreddit_latest_6500.csv\")\n",
    "df_l = pd.read_csv(\"../datasets/libertarian_subreddit_latest_6500.csv\")"
   ]
  },
  {
   "cell_type": "code",
   "execution_count": 3,
   "metadata": {},
   "outputs": [
    {
     "data": {
      "text/html": [
       "<div>\n",
       "<style scoped>\n",
       "    .dataframe tbody tr th:only-of-type {\n",
       "        vertical-align: middle;\n",
       "    }\n",
       "\n",
       "    .dataframe tbody tr th {\n",
       "        vertical-align: top;\n",
       "    }\n",
       "\n",
       "    .dataframe thead th {\n",
       "        text-align: right;\n",
       "    }\n",
       "</style>\n",
       "<table border=\"1\" class=\"dataframe\">\n",
       "  <thead>\n",
       "    <tr style=\"text-align: right;\">\n",
       "      <th></th>\n",
       "      <th>subreddit</th>\n",
       "      <th>subreddit_id</th>\n",
       "      <th>author</th>\n",
       "      <th>author_fullname</th>\n",
       "      <th>author_flair_text</th>\n",
       "      <th>body</th>\n",
       "    </tr>\n",
       "  </thead>\n",
       "  <tbody>\n",
       "    <tr>\n",
       "      <th>0</th>\n",
       "      <td>politics</td>\n",
       "      <td>t5_2cneq</td>\n",
       "      <td>wayfarout</td>\n",
       "      <td>t2_hwcbf</td>\n",
       "      <td>NaN</td>\n",
       "      <td>It was actually talked about in The West Wing ...</td>\n",
       "    </tr>\n",
       "    <tr>\n",
       "      <th>1</th>\n",
       "      <td>politics</td>\n",
       "      <td>t5_2cneq</td>\n",
       "      <td>trowawee1122</td>\n",
       "      <td>t2_ay8vmvm</td>\n",
       "      <td>NaN</td>\n",
       "      <td>\"There's no way he'll be elected...\"\\n\\n-2015</td>\n",
       "    </tr>\n",
       "    <tr>\n",
       "      <th>2</th>\n",
       "      <td>politics</td>\n",
       "      <td>t5_2cneq</td>\n",
       "      <td>klowny</td>\n",
       "      <td>t2_4ffwz</td>\n",
       "      <td>:flag-ca: California</td>\n",
       "      <td>I think Hillary started around this point as w...</td>\n",
       "    </tr>\n",
       "    <tr>\n",
       "      <th>3</th>\n",
       "      <td>politics</td>\n",
       "      <td>t5_2cneq</td>\n",
       "      <td>6p6ss6</td>\n",
       "      <td>t2_rr1ku</td>\n",
       "      <td>:flag-ca: California</td>\n",
       "      <td>\"Oops, my Excel just crashed and auto recover ...</td>\n",
       "    </tr>\n",
       "    <tr>\n",
       "      <th>4</th>\n",
       "      <td>politics</td>\n",
       "      <td>t5_2cneq</td>\n",
       "      <td>seKer82</td>\n",
       "      <td>t2_4axcp</td>\n",
       "      <td>NaN</td>\n",
       "      <td>Eh, not like they mean much to them anymore.  ...</td>\n",
       "    </tr>\n",
       "    <tr>\n",
       "      <th>...</th>\n",
       "      <td>...</td>\n",
       "      <td>...</td>\n",
       "      <td>...</td>\n",
       "      <td>...</td>\n",
       "      <td>...</td>\n",
       "      <td>...</td>\n",
       "    </tr>\n",
       "    <tr>\n",
       "      <th>6495</th>\n",
       "      <td>politics</td>\n",
       "      <td>t5_2cneq</td>\n",
       "      <td>nickebee</td>\n",
       "      <td>t2_9dbis</td>\n",
       "      <td>NaN</td>\n",
       "      <td>hunter biden smokes crack. guess we know where...</td>\n",
       "    </tr>\n",
       "    <tr>\n",
       "      <th>6496</th>\n",
       "      <td>politics</td>\n",
       "      <td>t5_2cneq</td>\n",
       "      <td>Jwhitmore89</td>\n",
       "      <td>t2_mrw33</td>\n",
       "      <td>NaN</td>\n",
       "      <td>Its got what plants crave!</td>\n",
       "    </tr>\n",
       "    <tr>\n",
       "      <th>6497</th>\n",
       "      <td>politics</td>\n",
       "      <td>t5_2cneq</td>\n",
       "      <td>AnAveragePotSmoker</td>\n",
       "      <td>t2_7nk5ucg</td>\n",
       "      <td>NaN</td>\n",
       "      <td>Look at you with your strong leadership and yo...</td>\n",
       "    </tr>\n",
       "    <tr>\n",
       "      <th>6498</th>\n",
       "      <td>politics</td>\n",
       "      <td>t5_2cneq</td>\n",
       "      <td>110110</td>\n",
       "      <td>t2_6smdg</td>\n",
       "      <td>NaN</td>\n",
       "      <td>Been playing hockey all my life in MD. I’m ready.</td>\n",
       "    </tr>\n",
       "    <tr>\n",
       "      <th>6499</th>\n",
       "      <td>politics</td>\n",
       "      <td>t5_2cneq</td>\n",
       "      <td>Turnthetidexxx</td>\n",
       "      <td>t2_5mc3ngeq</td>\n",
       "      <td>NaN</td>\n",
       "      <td>Well don’t be. It’s not like they cared about ...</td>\n",
       "    </tr>\n",
       "  </tbody>\n",
       "</table>\n",
       "<p>6500 rows × 6 columns</p>\n",
       "</div>"
      ],
      "text/plain": [
       "     subreddit subreddit_id              author author_fullname  \\\n",
       "0     politics     t5_2cneq           wayfarout        t2_hwcbf   \n",
       "1     politics     t5_2cneq        trowawee1122      t2_ay8vmvm   \n",
       "2     politics     t5_2cneq              klowny        t2_4ffwz   \n",
       "3     politics     t5_2cneq              6p6ss6        t2_rr1ku   \n",
       "4     politics     t5_2cneq             seKer82        t2_4axcp   \n",
       "...        ...          ...                 ...             ...   \n",
       "6495  politics     t5_2cneq            nickebee        t2_9dbis   \n",
       "6496  politics     t5_2cneq         Jwhitmore89        t2_mrw33   \n",
       "6497  politics     t5_2cneq  AnAveragePotSmoker      t2_7nk5ucg   \n",
       "6498  politics     t5_2cneq              110110        t2_6smdg   \n",
       "6499  politics     t5_2cneq      Turnthetidexxx     t2_5mc3ngeq   \n",
       "\n",
       "         author_flair_text                                               body  \n",
       "0                      NaN  It was actually talked about in The West Wing ...  \n",
       "1                      NaN      \"There's no way he'll be elected...\"\\n\\n-2015  \n",
       "2     :flag-ca: California  I think Hillary started around this point as w...  \n",
       "3     :flag-ca: California  \"Oops, my Excel just crashed and auto recover ...  \n",
       "4                      NaN  Eh, not like they mean much to them anymore.  ...  \n",
       "...                    ...                                                ...  \n",
       "6495                   NaN  hunter biden smokes crack. guess we know where...  \n",
       "6496                   NaN                         Its got what plants crave!  \n",
       "6497                   NaN  Look at you with your strong leadership and yo...  \n",
       "6498                   NaN  Been playing hockey all my life in MD. I’m ready.  \n",
       "6499                   NaN  Well don’t be. It’s not like they cared about ...  \n",
       "\n",
       "[6500 rows x 6 columns]"
      ]
     },
     "execution_count": 3,
     "metadata": {},
     "output_type": "execute_result"
    }
   ],
   "source": [
    "df_p"
   ]
  },
  {
   "cell_type": "markdown",
   "metadata": {},
   "source": [
    "## Data Cleaning"
   ]
  },
  {
   "cell_type": "markdown",
   "metadata": {},
   "source": [
    "### Drop Comments from the Comment Bot Labeled by Author Flair Text in r/politics"
   ]
  },
  {
   "cell_type": "code",
   "execution_count": 4,
   "metadata": {},
   "outputs": [],
   "source": [
    "df_p.drop(df_p[df_p[\"author_flair_text\"].str.contains(\"Bot\", na = False, regex = True) == True].index, inplace = True)"
   ]
  },
  {
   "cell_type": "markdown",
   "metadata": {},
   "source": [
    "### Check That No Comments from Comment the Bot Labeled by Author Flair Text in r/politics Remain"
   ]
  },
  {
   "cell_type": "code",
   "execution_count": 84,
   "metadata": {},
   "outputs": [
    {
     "data": {
      "text/html": [
       "<div>\n",
       "<style scoped>\n",
       "    .dataframe tbody tr th:only-of-type {\n",
       "        vertical-align: middle;\n",
       "    }\n",
       "\n",
       "    .dataframe tbody tr th {\n",
       "        vertical-align: top;\n",
       "    }\n",
       "\n",
       "    .dataframe thead th {\n",
       "        text-align: right;\n",
       "    }\n",
       "</style>\n",
       "<table border=\"1\" class=\"dataframe\">\n",
       "  <thead>\n",
       "    <tr style=\"text-align: right;\">\n",
       "      <th></th>\n",
       "      <th>subreddit</th>\n",
       "      <th>subreddit_id</th>\n",
       "      <th>author</th>\n",
       "      <th>author_fullname</th>\n",
       "      <th>author_flair_text</th>\n",
       "      <th>body</th>\n",
       "    </tr>\n",
       "  </thead>\n",
       "  <tbody>\n",
       "  </tbody>\n",
       "</table>\n",
       "</div>"
      ],
      "text/plain": [
       "Empty DataFrame\n",
       "Columns: [subreddit, subreddit_id, author, author_fullname, author_flair_text, body]\n",
       "Index: []"
      ]
     },
     "execution_count": 84,
     "metadata": {},
     "output_type": "execute_result"
    }
   ],
   "source": [
    "df_p[df_p[\"author_flair_text\"].str.contains(\"Bot\", na = False, regex = True) == True]"
   ]
  },
  {
   "cell_type": "markdown",
   "metadata": {},
   "source": [
    "### Remove the Extra Column for Author Flair Text"
   ]
  },
  {
   "cell_type": "code",
   "execution_count": 85,
   "metadata": {},
   "outputs": [],
   "source": [
    "df_p.drop(columns = \"author_flair_text\", inplace = True)\n",
    "df_c.drop(columns = \"author_flair_text\", inplace = True)\n",
    "df_l.drop(columns = \"author_flair_text\", inplace = True)"
   ]
  },
  {
   "cell_type": "markdown",
   "metadata": {},
   "source": [
    "### Drop Null Values in Author Name Column from Deleted Posts"
   ]
  },
  {
   "cell_type": "code",
   "execution_count": 86,
   "metadata": {},
   "outputs": [],
   "source": [
    "df_p = df_p.dropna()\n",
    "df_c = df_c.dropna()\n",
    "df_l = df_l.dropna()"
   ]
  },
  {
   "cell_type": "code",
   "execution_count": 87,
   "metadata": {},
   "outputs": [
    {
     "name": "stdout",
     "output_type": "stream",
     "text": [
      "subreddit          0\n",
      "subreddit_id       0\n",
      "author             0\n",
      "author_fullname    0\n",
      "body               0\n",
      "dtype: int64\n",
      "subreddit          0\n",
      "subreddit_id       0\n",
      "author             0\n",
      "author_fullname    0\n",
      "body               0\n",
      "dtype: int64\n",
      "subreddit          0\n",
      "subreddit_id       0\n",
      "author             0\n",
      "author_fullname    0\n",
      "body               0\n",
      "dtype: int64\n"
     ]
    }
   ],
   "source": [
    "print(df_p.isnull().sum())\n",
    "print(df_c.isnull().sum())\n",
    "print(df_l.isnull().sum())"
   ]
  },
  {
   "cell_type": "markdown",
   "metadata": {},
   "source": [
    "### Check That No Removed Messages or Deleted Authors Remain"
   ]
  },
  {
   "cell_type": "code",
   "execution_count": 88,
   "metadata": {},
   "outputs": [
    {
     "data": {
      "text/html": [
       "<div>\n",
       "<style scoped>\n",
       "    .dataframe tbody tr th:only-of-type {\n",
       "        vertical-align: middle;\n",
       "    }\n",
       "\n",
       "    .dataframe tbody tr th {\n",
       "        vertical-align: top;\n",
       "    }\n",
       "\n",
       "    .dataframe thead th {\n",
       "        text-align: right;\n",
       "    }\n",
       "</style>\n",
       "<table border=\"1\" class=\"dataframe\">\n",
       "  <thead>\n",
       "    <tr style=\"text-align: right;\">\n",
       "      <th></th>\n",
       "      <th>subreddit</th>\n",
       "      <th>subreddit_id</th>\n",
       "      <th>author</th>\n",
       "      <th>author_fullname</th>\n",
       "      <th>body</th>\n",
       "    </tr>\n",
       "  </thead>\n",
       "  <tbody>\n",
       "  </tbody>\n",
       "</table>\n",
       "</div>"
      ],
      "text/plain": [
       "Empty DataFrame\n",
       "Columns: [subreddit, subreddit_id, author, author_fullname, body]\n",
       "Index: []"
      ]
     },
     "execution_count": 88,
     "metadata": {},
     "output_type": "execute_result"
    }
   ],
   "source": [
    "df_p[(df_p[\"body\"] == \"[removed]\") | (df_p[\"author\"] == \"[deleted]\")]"
   ]
  },
  {
   "cell_type": "code",
   "execution_count": 89,
   "metadata": {},
   "outputs": [
    {
     "data": {
      "text/html": [
       "<div>\n",
       "<style scoped>\n",
       "    .dataframe tbody tr th:only-of-type {\n",
       "        vertical-align: middle;\n",
       "    }\n",
       "\n",
       "    .dataframe tbody tr th {\n",
       "        vertical-align: top;\n",
       "    }\n",
       "\n",
       "    .dataframe thead th {\n",
       "        text-align: right;\n",
       "    }\n",
       "</style>\n",
       "<table border=\"1\" class=\"dataframe\">\n",
       "  <thead>\n",
       "    <tr style=\"text-align: right;\">\n",
       "      <th></th>\n",
       "      <th>subreddit</th>\n",
       "      <th>subreddit_id</th>\n",
       "      <th>author</th>\n",
       "      <th>author_fullname</th>\n",
       "      <th>body</th>\n",
       "    </tr>\n",
       "  </thead>\n",
       "  <tbody>\n",
       "  </tbody>\n",
       "</table>\n",
       "</div>"
      ],
      "text/plain": [
       "Empty DataFrame\n",
       "Columns: [subreddit, subreddit_id, author, author_fullname, body]\n",
       "Index: []"
      ]
     },
     "execution_count": 89,
     "metadata": {},
     "output_type": "execute_result"
    }
   ],
   "source": [
    "df_c[(df_c[\"body\"] == \"[removed]\") | (df_c[\"author\"] == \"[deleted]\")]"
   ]
  },
  {
   "cell_type": "code",
   "execution_count": 90,
   "metadata": {},
   "outputs": [
    {
     "data": {
      "text/html": [
       "<div>\n",
       "<style scoped>\n",
       "    .dataframe tbody tr th:only-of-type {\n",
       "        vertical-align: middle;\n",
       "    }\n",
       "\n",
       "    .dataframe tbody tr th {\n",
       "        vertical-align: top;\n",
       "    }\n",
       "\n",
       "    .dataframe thead th {\n",
       "        text-align: right;\n",
       "    }\n",
       "</style>\n",
       "<table border=\"1\" class=\"dataframe\">\n",
       "  <thead>\n",
       "    <tr style=\"text-align: right;\">\n",
       "      <th></th>\n",
       "      <th>subreddit</th>\n",
       "      <th>subreddit_id</th>\n",
       "      <th>author</th>\n",
       "      <th>author_fullname</th>\n",
       "      <th>body</th>\n",
       "    </tr>\n",
       "  </thead>\n",
       "  <tbody>\n",
       "  </tbody>\n",
       "</table>\n",
       "</div>"
      ],
      "text/plain": [
       "Empty DataFrame\n",
       "Columns: [subreddit, subreddit_id, author, author_fullname, body]\n",
       "Index: []"
      ]
     },
     "execution_count": 90,
     "metadata": {},
     "output_type": "execute_result"
    }
   ],
   "source": [
    "df_l[(df_l[\"body\"] == \"[removed]\") | (df_l[\"author\"] == \"[deleted]\")]"
   ]
  },
  {
   "cell_type": "markdown",
   "metadata": {},
   "source": [
    "### Remove Formatting from Comment Bodies"
   ]
  },
  {
   "cell_type": "code",
   "execution_count": 91,
   "metadata": {},
   "outputs": [],
   "source": [
    "def split_and_recombine_post(text):\n",
    "    matches = re.findall(\"n*https*://[www.]*([A-Za-z0-9\\.]*)/[\\w+/\\w+-.html]*|([A-Za-z0-9]+[\\.]*[']*[A-Za-z]*)\", text, re.MULTILINE)\n",
    "    match_list = []\n",
    "    for i in matches:\n",
    "        if i[0]:\n",
    "            match_list.append(i[0])\n",
    "        if i[1]:\n",
    "            match_list.append(i[1])\n",
    "    recombined = \" \".join(match_list)\n",
    "    return recombined\n"
   ]
  },
  {
   "cell_type": "code",
   "execution_count": 92,
   "metadata": {},
   "outputs": [],
   "source": [
    "for i in df_p.index:\n",
    "    df_p.loc[i,\"body\"] = split_and_recombine_post(df_p.loc[i,\"body\"])\n",
    "for i in df_c.index:\n",
    "    df_c.loc[i,\"body\"] = split_and_recombine_post(df_c.loc[i,\"body\"])\n",
    "for i in df_l.index:\n",
    "    df_l.loc[i,\"body\"] = split_and_recombine_post(df_l.loc[i,\"body\"])"
   ]
  },
  {
   "cell_type": "markdown",
   "metadata": {},
   "source": [
    "### Remove Any Posts That Had No Content in the Body"
   ]
  },
  {
   "cell_type": "code",
   "execution_count": 99,
   "metadata": {},
   "outputs": [],
   "source": [
    "df_p.drop(df_p[df_p[\"body\"] == \"\"].index, inplace = True)\n",
    "df_c.drop(df_c[df_c[\"body\"] == \"\"].index, inplace = True)\n",
    "df_l.drop(df_l[df_l[\"body\"] == \"\"].index, inplace = True)"
   ]
  },
  {
   "cell_type": "markdown",
   "metadata": {},
   "source": [
    "## Save Data"
   ]
  },
  {
   "cell_type": "code",
   "execution_count": 101,
   "metadata": {},
   "outputs": [],
   "source": [
    "df_p.to_csv(\"../datasets/politics_subreddit_latest_6500_cleaned.csv\", index = False)\n",
    "df_c.to_csv(\"../datasets/conservative_subreddit_latest_6500_cleaned.csv\", index = False)\n",
    "df_l.to_csv(\"../datasets/libertarian_subreddit_latest_6500_cleaned.csv\", index = False)"
   ]
  },
  {
   "cell_type": "markdown",
   "metadata": {},
   "source": [
    "## See Notebook 3 for Variable Creation"
   ]
  },
  {
   "cell_type": "code",
   "execution_count": null,
   "metadata": {},
   "outputs": [],
   "source": []
  }
 ],
 "metadata": {
  "kernelspec": {
   "display_name": "Python 3",
   "language": "python",
   "name": "python3"
  },
  "language_info": {
   "codemirror_mode": {
    "name": "ipython",
    "version": 3
   },
   "file_extension": ".py",
   "mimetype": "text/x-python",
   "name": "python",
   "nbconvert_exporter": "python",
   "pygments_lexer": "ipython3",
   "version": "3.7.7"
  }
 },
 "nbformat": 4,
 "nbformat_minor": 4
}
